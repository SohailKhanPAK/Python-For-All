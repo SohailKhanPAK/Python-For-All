{
 "cells": [
  {
   "cell_type": "markdown",
   "metadata": {},
   "source": [
    "# - Math expressions: Unfamiliar operators"
   ]
  },
  {
   "cell_type": "code",
   "execution_count": 2,
   "metadata": {},
   "outputs": [
    {
     "name": "stdout",
     "output_type": "stream",
     "text": [
      "0 1\n"
     ]
    }
   ],
   "source": [
    "x = 6%2                #   modulus (%) = remainder \n",
    "y = 9%2\n",
    "print (x,y)"
   ]
  },
  {
   "cell_type": "markdown",
   "metadata": {},
   "source": [
    "### Old way to do increment"
   ]
  },
  {
   "cell_type": "code",
   "execution_count": 16,
   "metadata": {},
   "outputs": [
    {
     "name": "stdout",
     "output_type": "stream",
     "text": [
      "without unfimiliar operator\n",
      "2 3 4\n"
     ]
    }
   ],
   "source": [
    "x = 1       \n",
    "y = 1\n",
    "z = 1 \n",
    "\n",
    "x = x + 1    #if increment = 1\n",
    "y = y + 2    #if increment = 2\n",
    "z = z + 3    #if increment = 3  and so on\n",
    "\n",
    "print (x,y,z)"
   ]
  },
  {
   "cell_type": "markdown",
   "metadata": {},
   "source": [
    "### -New way"
   ]
  },
  {
   "cell_type": "code",
   "execution_count": 15,
   "metadata": {},
   "outputs": [
    {
     "name": "stdout",
     "output_type": "stream",
     "text": [
      "with unfimiliar operator\n",
      "2 3 4\n"
     ]
    }
   ],
   "source": [
    "#unfamiliar operator for this is ..\n",
    "\n",
    "print (\"with unfimiliar operator\")\n",
    "\n",
    "a,b,c = 1 ,1 ,1\n",
    "\n",
    "a +=1    #if increment = 1\n",
    "b +=2    #if increment = 2\n",
    "c +=3    #if increment = 3  and so on\n",
    "\n",
    "print (x,y,z)"
   ]
  }
 ],
 "metadata": {
  "kernelspec": {
   "display_name": "Python 3",
   "language": "python",
   "name": "python3"
  },
  "language_info": {
   "codemirror_mode": {
    "name": "ipython",
    "version": 3
   },
   "file_extension": ".py",
   "mimetype": "text/x-python",
   "name": "python",
   "nbconvert_exporter": "python",
   "pygments_lexer": "ipython3",
   "version": "3.7.3"
  }
 },
 "nbformat": 4,
 "nbformat_minor": 2
}
